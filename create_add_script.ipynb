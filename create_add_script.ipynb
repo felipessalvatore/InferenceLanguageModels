{
 "cells": [
  {
   "cell_type": "code",
   "execution_count": 1,
   "metadata": {},
   "outputs": [],
   "source": [
    "import pandas as pd\n",
    "import numpy as np"
   ]
  },
  {
   "cell_type": "code",
   "execution_count": 2,
   "metadata": {},
   "outputs": [],
   "source": [
    "def get_new_item(item_list, src_list):\n",
    "    size = len(src_list)\n",
    "    new_item = src_list[np.random.choice(size)]\n",
    "    while new_item in item_list:\n",
    "        new_i = np.random.choice(size)\n",
    "        new_item = src_list[new_i]\n",
    "    return new_item"
   ]
  },
  {
   "cell_type": "code",
   "execution_count": 3,
   "metadata": {},
   "outputs": [],
   "source": [
    "df = pd.read_csv(\"data/NLI/simple_negation_train.csv\")\n",
    "df_entailment = df.loc[df['label']==1]\n",
    "ps = df_entailment[\"sentence1\"].values\n",
    "hs = df_entailment[\"sentence2\"].values\n",
    "ids = df_entailment[\"ids\"].values\n",
    "\n",
    "size = ids.shape[0]\n",
    "\n",
    "lines = []\n",
    "\n",
    "for p,i,h in zip(ps[0:size],ids[0:size],hs[0:size]):\n",
    "    p = p.split(\",\")\n",
    "    len_ = len(p)\n",
    "    new_id = get_new_item([i], range(len_))\n",
    "    id_s = [i, new_id]\n",
    "    np.random.shuffle(id_s)\n",
    "    sentence = p[id_s[0]].strip() + \" and \" + p[id_s[1]].strip() + \".\\n\" + h + \"\\n\" \n",
    "    lines.append(sentence)\n",
    "    \n",
    "with open(\"data/InferenceCorpora/and.txt\", \"w\") as f:\n",
    "    for line in lines:\n",
    "        f.write(line)\n",
    "    f.write(\"\\n\")"
   ]
  },
  {
   "cell_type": "code",
   "execution_count": null,
   "metadata": {},
   "outputs": [],
   "source": []
  }
 ],
 "metadata": {
  "kernelspec": {
   "display_name": "Python 3",
   "language": "python",
   "name": "python3"
  },
  "language_info": {
   "codemirror_mode": {
    "name": "ipython",
    "version": 3
   },
   "file_extension": ".py",
   "mimetype": "text/x-python",
   "name": "python",
   "nbconvert_exporter": "python",
   "pygments_lexer": "ipython3",
   "version": "3.6.7"
  }
 },
 "nbformat": 4,
 "nbformat_minor": 2
}
