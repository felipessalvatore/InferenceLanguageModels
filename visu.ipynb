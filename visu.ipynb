{
 "cells": [
  {
   "cell_type": "markdown",
   "metadata": {},
   "source": [
    "# Visualizing results masked inference\n",
    "\n",
    "\n",
    "## remeber in the classification task we got the following results using BERT:\n",
    "\n",
    "- Boolean Connective 100%\n",
    "    \n",
    "- Quantifiers 90.5%\n",
    "\n",
    "- Counting 87.5%\n",
    "\n"
   ]
  },
  {
   "cell_type": "markdown",
   "metadata": {},
   "source": [
    "### all imports"
   ]
  },
  {
   "cell_type": "code",
   "execution_count": 1,
   "metadata": {},
   "outputs": [],
   "source": [
    "import pandas as pd\n",
    "import numpy as np\n",
    "import matplotlib.pyplot as plt\n",
    "import seaborn as sns\n",
    "from inference.text_generation.util import num2word"
   ]
  },
  {
   "cell_type": "markdown",
   "metadata": {},
   "source": [
    "### reading csv"
   ]
  },
  {
   "cell_type": "code",
   "execution_count": 2,
   "metadata": {},
   "outputs": [],
   "source": [
    "df_bc = pd.read_csv(\"results/BC_basic.csv\")\n",
    "# df_q = pd.read_csv()\n",
    "df_count = pd.read_csv(\"results/count_basic.csv\")"
   ]
  },
  {
   "cell_type": "markdown",
   "metadata": {},
   "source": [
    "#### General functions"
   ]
  },
  {
   "cell_type": "code",
   "execution_count": 3,
   "metadata": {},
   "outputs": [],
   "source": [
    "## creating accuracy from top 10 score\n",
    "features = [\"bert_base_uncased_pre_trained\", \"bert_base_uncased_fine_tuned\"]\n",
    "for feature in features:\n",
    "    df_bc[feature + \"_hard\"] =  np.floor(df_bc[feature].values)\n",
    "    df_count[feature + \"_hard\"] =  np.floor(df_count[feature].values)\n",
    "    \n",
    "\n",
    "\n",
    "def print_score(df_, label_list=None,score=False, acc=True):\n",
    "    pre_trained = df_.bert_base_uncased_pre_trained.values\n",
    "    fine_tuned = df_.bert_base_uncased_fine_tuned.values\n",
    "\n",
    "    print(\"==== General results===\\n\")\n",
    "\n",
    "    if score:\n",
    "        print(\"top 10 score - max = 1.0, min = 0.0\\n\")\n",
    "        print(\"pre_trained: score = {:.1f}\".format(np.mean(pre_trained)))\n",
    "        print(\"fine_tuned: score = {:.1f}\".format(np.mean(fine_tuned)))\n",
    "\n",
    "    pre_trained = df_.bert_base_uncased_pre_trained_hard.values\n",
    "    fine_tuned = df_.bert_base_uncased_fine_tuned_hard.values\n",
    "\n",
    "    if acc:\n",
    "        print(\"\\nAccuracy\")\n",
    "        print(\"pre_trained, acc = {:.1f} %\".format(np.mean(pre_trained)*100))\n",
    "        print(\"fine_tuned, acc = {:.1f} %\".format(np.mean(fine_tuned)*100))\n",
    "\n",
    "    print(\"\\n==== Results for each connective ===\\n\")\n",
    "    \n",
    "    if label_list is None:\n",
    "        label_list = set(df_.label) \n",
    "\n",
    "    for label in label_list:\n",
    "        df_label = df_[df_.label==label]\n",
    "\n",
    "        pre_trained = df_label.bert_base_uncased_pre_trained.values\n",
    "        fine_tuned = df_label.bert_base_uncased_fine_tuned.values\n",
    "        if score:\n",
    "            print(\"top 10 score - max = 1.0, min = 0.0\\n\")\n",
    "            print(\"(label={}) pre_trained: score = {:.1f}\".format(label, np.mean(pre_trained)))\n",
    "            print(\"(label={}) fine_tuned: score = {:.1f}\".format(label, np.mean(fine_tuned)))\n",
    "\n",
    "        pre_trained = df_label.bert_base_uncased_pre_trained_hard.values\n",
    "        fine_tuned = df_label.bert_base_uncased_fine_tuned_hard.values\n",
    "        \n",
    "        if acc:\n",
    "            print(\"\\nAccuracy\\n\")\n",
    "            print(\"(label={}) pre_trained: acc = {:.1f} %\".format(label, np.mean(pre_trained) * 100))\n",
    "            print(\"(label={}) fine_tuned: acc = {:.1f} %\".format(label, np.mean(fine_tuned) * 100))\n",
    "        print()"
   ]
  },
  {
   "cell_type": "markdown",
   "metadata": {},
   "source": [
    "# Boolean connective results"
   ]
  },
  {
   "cell_type": "code",
   "execution_count": 4,
   "metadata": {},
   "outputs": [
    {
     "name": "stdout",
     "output_type": "stream",
     "text": [
      "==== General results===\n",
      "\n",
      "\n",
      "Accuracy\n",
      "pre_trained, acc = 0.0 %\n",
      "fine_tuned, acc = 55.3 %\n",
      "\n",
      "==== Results for each connective ===\n",
      "\n",
      "\n",
      "Accuracy\n",
      "\n",
      "(label=or) pre_trained: acc = 0.0 %\n",
      "(label=or) fine_tuned: acc = 80.4 %\n",
      "\n",
      "\n",
      "Accuracy\n",
      "\n",
      "(label=and) pre_trained: acc = 0.0 %\n",
      "(label=and) fine_tuned: acc = 30.2 %\n",
      "\n"
     ]
    }
   ],
   "source": [
    "print_score(df_bc)"
   ]
  },
  {
   "cell_type": "markdown",
   "metadata": {},
   "source": [
    "# Count results plot"
   ]
  },
  {
   "cell_type": "code",
   "execution_count": 6,
   "metadata": {},
   "outputs": [],
   "source": [
    "numerals = list(num2word.values())\n",
    "numerals = [n for n in numerals if n in set(df_count.label)]\n",
    "\n",
    "fine_tuned = df_count[[\"label\", \"bert_base_uncased_fine_tuned_hard\"]]\n",
    "fine_tuned.columns = ['label', \"hit\"]\n",
    "\n",
    "obs = []\n",
    "\n",
    "for label in numerals:\n",
    "        df_label = fine_tuned[fine_tuned.label==label]\n",
    "        obs.append((label, df_label.hit.mean(), \"fine-tuned\"))\n",
    "        \n",
    "        \n",
    "pre_trained = df_count[[\"label\", \"bert_base_uncased_pre_trained_hard\"]]\n",
    "pre_trained.columns = ['label', \"hit\"]\n",
    "\n",
    "for label in numerals:\n",
    "        df_label = pre_trained[pre_trained.label==label]\n",
    "        obs.append((label, df_label.hit.mean(), \"pre-trained only\"))\n",
    "\n",
    "result = pd.DataFrame(obs, columns=[\"numeral\", \"accuracy\", \"model type\"])"
   ]
  },
  {
   "cell_type": "code",
   "execution_count": 7,
   "metadata": {},
   "outputs": [],
   "source": [
    "from matplotlib.ticker import FuncFormatter\n",
    "def f_percentage(x, pos):\n",
    "    \"\"\"\n",
    "    Adds percentage sign to plot ticks.\n",
    "    \"\"\"\n",
    "\n",
    "    return '{:.1%}'.format(x)\n",
    "\n",
    "y_axis_formatter = FuncFormatter(f_percentage)"
   ]
  },
  {
   "cell_type": "code",
   "execution_count": 8,
   "metadata": {},
   "outputs": [
    {
     "data": {
      "image/png": "[encoded data removed]",
      "text/plain": [
       "<Figure size 864x432 with 1 Axes>"
      ]
     },
     "metadata": {
      "needs_background": "light"
     },
     "output_type": "display_data"
    }
   ],
   "source": [
    "figsize = (12,6)\n",
    "xlabel = \"Numeral\"\n",
    "ylabel = \"Accuracy\"\n",
    "path = \"img/MI_counting_acc.png\"\n",
    "\n",
    "fig, ax = plt.subplots(1, 1, figsize=figsize)\n",
    "sns.barplot(x=\"numeral\", y=\"accuracy\", hue=\"model type\", data=result, ax=ax)\n",
    "ax.set_xlabel(xlabel, fontsize=18)\n",
    "ax.set_ylabel(ylabel, fontsize=18)\n",
    "ax.yaxis.set_major_formatter(FuncFormatter(y_axis_formatter))\n",
    "plt.xticks(rotation=45)\n",
    "ax.legend(loc=\"best\")\n",
    "plt.savefig(path)"
   ]
  },
  {
   "cell_type": "markdown",
   "metadata": {},
   "source": [
    "# Count results"
   ]
  },
  {
   "cell_type": "code",
   "execution_count": null,
   "metadata": {},
   "outputs": [],
   "source": [
    "# numerals = list(num2word.values())\n",
    "# numerals = [n for n in numerals if n in set(df_count.label)]\n",
    "# print_score(df_count, numerals)"
   ]
  },
  {
   "cell_type": "code",
   "execution_count": null,
   "metadata": {},
   "outputs": [],
   "source": []
  }
 ],
 "metadata": {
  "kernelspec": {
   "display_name": "Python 3",
   "language": "python",
   "name": "python3"
  },
  "language_info": {
   "codemirror_mode": {
    "name": "ipython",
    "version": 3
   },
   "file_extension": ".py",
   "mimetype": "text/x-python",
   "name": "python",
   "nbconvert_exporter": "python",
   "pygments_lexer": "ipython3",
   "version": "3.6.9"
  }
 },
 "nbformat": 4,
 "nbformat_minor": 2
}
